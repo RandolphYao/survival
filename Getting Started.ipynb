{
 "cells": [
  {
   "cell_type": "markdown",
   "metadata": {
    "collapsed": true
   },
   "source": [
    "# Fitting a distribution to waiting times\n",
    "\n",
    "### How long should we wait for the bus before giving up on it and starting to walk?\n",
    "\n",
    "First, we'll need to observe some data on the historic arrival times of the bus and fit a distribution to them. Note however that some of our data will be incomplete since when we give up on the bus after x minutes, we only know it took more than that time for it to arrive, but not exactly how much. These are called censored observations.\n",
    "\n",
    "Let's generate sample data - both complete observations (ti) and some censored observations (xi) - and fit a distribution! \n"
   ]
  },
  {
   "cell_type": "code",
   "execution_count": null,
   "metadata": {},
   "outputs": [],
   "source": [
    "import matplotlib.pyplot as plt\n",
    "from distributions.lomax import *\n",
    "from distributions.loglogistic import *"
   ]
  },
  {
   "cell_type": "code",
   "execution_count": null,
   "metadata": {
    "collapsed": true
   },
   "outputs": [],
   "source": [
    "# Define parameters for Lomax\n",
    "\n",
    "k = 10.0   # shape\n",
    "lmb = 0.5  # scale\n",
    "sample_size = 5000\n",
    "censor_level = 0.5 # after half an hour, we stop waiting. \n",
    "prob = 1.0"
   ]
  },
  {
   "cell_type": "code",
   "execution_count": null,
   "metadata": {},
   "outputs": [],
   "source": [
    "# Let's assume the arrival times of the bus follow a Lomax distribution.\n",
    "l = Lomax(k=k, lmb=lmb)"
   ]
  },
  {
   "cell_type": "markdown",
   "metadata": {},
   "source": [
    "### What is lomax distribution?\n",
    "\n",
    "It is basically a Pareto distribution that has been shifted so that its support begins at zero. A heavy tailed distribution. For a non-negative random variable.\n",
    "\n",
    "Two parameters define the distribution: scale parameter λ and shape parameter κ (sometimes denoted as α). \n",
    "\n",
    "The shorthand X ∼ Lomax(λ,κ) indicates the random variable X has a Lomax distribution with those two parameters.\n"
   ]
  },
  {
   "cell_type": "markdown",
   "metadata": {},
   "source": [
    "<img src = \"https://www.statisticshowto.datasciencecentral.com/wp-content/uploads/2016/06/lomax-pdf.png\">"
   ]
  },
  {
   "cell_type": "markdown",
   "metadata": {},
   "source": [
    "<img src = \"https://www.statisticshowto.datasciencecentral.com/wp-content/uploads/2016/06/PDF.png\">"
   ]
  },
  {
   "cell_type": "code",
   "execution_count": null,
   "metadata": {},
   "outputs": [],
   "source": [
    "# Generate waiting times from Lomax distribution.\n",
    "samples = l.samples(size=sample_size)\n",
    "samples"
   ]
  },
  {
   "cell_type": "code",
   "execution_count": null,
   "metadata": {},
   "outputs": [],
   "source": [
    "# Since we never wait for the bus more than x minutes,\n",
    "# the observed samples are the ones that take less than x minutes.\n",
    "ti = samples[(samples<=censor_level)]\n",
    "ti"
   ]
  },
  {
   "cell_type": "code",
   "execution_count": null,
   "metadata": {},
   "outputs": [],
   "source": [
    "len(ti) # About 10% of people stopped waiting after 30 minutes."
   ]
  },
  {
   "cell_type": "code",
   "execution_count": null,
   "metadata": {},
   "outputs": [],
   "source": [
    "samples > censor_level\n"
   ]
  },
  {
   "cell_type": "code",
   "execution_count": null,
   "metadata": {},
   "outputs": [],
   "source": [
    "# xi array contains the censored data.\n",
    "xi = np.ones(sum(samples>censor_level)) * censor_level\n",
    "xi"
   ]
  },
  {
   "cell_type": "code",
   "execution_count": null,
   "metadata": {},
   "outputs": [],
   "source": [
    "len(xi) "
   ]
  },
  {
   "cell_type": "code",
   "execution_count": null,
   "metadata": {},
   "outputs": [],
   "source": [
    "# Fit a log logistic model to the data we just generated.\n",
    "# You can safely ignore the warnings.\n",
    "\n",
    "ll1 = LogLogistic(ti=ti, xi=xi)"
   ]
  },
  {
   "cell_type": "code",
   "execution_count": null,
   "metadata": {
    "collapsed": true
   },
   "outputs": [],
   "source": [
    "# See how well the distribution fits the histogram.\n",
    "\n",
    "histo = plt.hist(samples, normed=True)\n",
    "xs = (histo[1][:len(histo[1])-1]+histo[1][1:])/2"
   ]
  },
  {
   "cell_type": "code",
   "execution_count": null,
   "metadata": {},
   "outputs": [],
   "source": [
    "xs # We are going to call pdf for each xs values."
   ]
  },
  {
   "cell_type": "code",
   "execution_count": null,
   "metadata": {},
   "outputs": [],
   "source": [
    "plt.plot(xs, [ll1.pdf(i) for i in xs])\n",
    "plt.show()"
   ]
  },
  {
   "cell_type": "markdown",
   "metadata": {},
   "source": [
    "### Optimizing waiting threshold using the distribution\n",
    "\n",
    "Let's model the process as a state machine. There are three possible states that we care about - \"1. waiting for a bus\", \"2. walking to work\" and \"3. working at the office\". The figure below represents the states and the arrows show the possible transitions between the states.\n",
    "\n",
    "\n",
    "<img src=\"https://raw.githubusercontent.com/ryu577/ryu577.github.io/master/Downloads/opt_thresholds/bus_states.png\" width=\"480\" height=\"400\" >\n",
    "\n",
    "\n",
    "Also, we assume that which state we go to next and how much time it takes to jump to that state depends only on *which state we are currently in*. This property is called the **Markov property**. \n",
    "\n",
    "\n",
    "To describe this transitions, we need two matrices.\n",
    "\n",
    "1. Transition probabilities : the transition from state 'i' to state 'j' \n",
    "\\n\n",
    "2. Transition times\n",
    "\n",
    "the first state (i = 0) is \"waiting\", the second state (i=1) is \"walking\" and the last and most desirable state (i = 2) is \"working\", where we want to spend the highest proportion of time.\n",
    "\n",
    "Continuing from above, we can run the following code:\n"
   ]
  },
  {
   "cell_type": "code",
   "execution_count": null,
   "metadata": {},
   "outputs": [],
   "source": [
    "# The time it takes to walk to work \n",
    "intervention_cost=200\n",
    "\n",
    "# The amount of time we wait for the bus before walking respectively.\n",
    "tau=275\n",
    "\n",
    "# The transition probabilities (p) and transition times (t) depend on \n",
    "# the amount of time we're willing to wait for the bus (tau)\n",
    "# and the amount of time it takes to walk to work (intervention_cost).\n",
    "(p,t) = ll1.construct_matrices(tau, intervention_cost)"
   ]
  },
  {
   "cell_type": "code",
   "execution_count": 59,
   "metadata": {},
   "outputs": [
    {
     "data": {
      "text/plain": [
       "matrix([[0.00000000e+00, 3.91744301e-05, 9.99960826e-01],\n",
       "        [0.00000000e+00, 0.00000000e+00, 1.00000000e+00],\n",
       "        [1.00000000e-01, 9.00000000e-01, 0.00000000e+00]])"
      ]
     },
     "execution_count": 59,
     "metadata": {},
     "output_type": "execute_result"
    }
   ],
   "source": [
    "# The transition probabilities\n",
    "p"
   ]
  },
  {
   "cell_type": "markdown",
   "metadata": {},
   "source": [
    "The 'p' matrix you see above is the matrix of transition probabilities. The (i,j) row is the probability of transitioning to state 'j' given you started in state 'i'. Note that the rows of this matrix sum to 1 since we have to make a transition to one of the other available states. Also, the diagonals of the matrix are 0 since the (i,i) entry would imply transitioning from state i to i, which doesn't make sense in the context of a transition. \n"
   ]
  },
  {
   "cell_type": "code",
   "execution_count": 58,
   "metadata": {},
   "outputs": [
    {
     "data": {
      "text/plain": [
       "matrix([[  0.        , 275.        ,   0.40033456],\n",
       "        [  0.        ,   0.        , 200.        ],\n",
       "        [100.        , 100.        ,   0.        ]])"
      ]
     },
     "execution_count": 58,
     "metadata": {},
     "output_type": "execute_result"
    }
   ],
   "source": [
    "#transition times\n",
    "t"
   ]
  },
  {
   "cell_type": "markdown",
   "metadata": {},
   "source": [
    "Given this transition matrix, let's say we start in any state i and make a transition to another state according to the probabilities given by row 'i' in the matrix. If we end up in state 'j', we spend one unit of time there and then make another random transition according to the probabilities in row 'j' and so on, repeating this process many times. What percentage of the total time would we then expect to spend in each of the states? This is called the vector of steady state probabilities and it can be calculated via the method described in the answer <a href=\"https://math.stackexchange.com/a/2452452/155881\">here</a>."
   ]
  },
  {
   "cell_type": "code",
   "execution_count": null,
   "metadata": {
    "collapsed": true
   },
   "outputs": [],
   "source": []
  }
 ],
 "metadata": {
  "kernelspec": {
   "display_name": "Python 3",
   "language": "python",
   "name": "python3"
  },
  "language_info": {
   "codemirror_mode": {
    "name": "ipython",
    "version": 3
   },
   "file_extension": ".py",
   "mimetype": "text/x-python",
   "name": "python",
   "nbconvert_exporter": "python",
   "pygments_lexer": "ipython3",
   "version": "3.6.3"
  }
 },
 "nbformat": 4,
 "nbformat_minor": 1
}
